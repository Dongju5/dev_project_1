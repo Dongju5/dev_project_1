{
 "cells": [
  {
   "cell_type": "code",
   "execution_count": 9,
   "id": "2a2a0429",
   "metadata": {},
   "outputs": [
    {
     "name": "stdout",
     "output_type": "stream",
     "text": [
      "Merged file saved to C:\\Users\\saty1\\Downloads\\Saty_python\\project1\\result\\result2\\merged_output.csv\n"
     ]
    }
   ],
   "source": [
    "import os\n",
    "import pandas as pd\n",
    "\n",
    "# 현재 작업 디렉토리 경로를 가져옴\n",
    "current_directory = os.getcwd()\n",
    "\n",
    "# 사용자가 희망하는 열들 (예: 'like' 관련 열들)\n",
    "desired_columns = ['view']  # 필요한 열 이름의 일부를 여기에 입력\n",
    "\n",
    "# 경로에 있는 모든 파일 리스트 가져오기\n",
    "file_names = [f for f in os.listdir(current_directory) if f.endswith('.csv')]\n",
    "\n",
    "# 첫 번째 파일을 읽어와 date 열만 가져오기\n",
    "first_file = pd.read_csv(os.path.join(current_directory, file_names[0]))\n",
    "merged_df = first_file[['Date']].copy()  # Date 열만 복사\n",
    "\n",
    "# 각 파일을 순차적으로 처리하며 병합\n",
    "for file_name in file_names:\n",
    "    # 파일 읽기\n",
    "    df = pd.read_csv(os.path.join(current_directory, file_name))\n",
    "    \n",
    "    # 파일 이름에서 카테고리 번호 추출\n",
    "    category_number = file_name.split('_')[1]\n",
    "    \n",
    "    # 사용자가 선택한 열들만 필터링 (date 열과 함께)\n",
    "    filtered_columns = ['Date'] + [col for col in df.columns if any(desired in col for desired in desired_columns)]\n",
    "    df_filtered = df[filtered_columns]\n",
    "    \n",
    "    # 각 열에 \"카테고리번호_\" 접두사 붙이기\n",
    "    df_filtered.columns = ['Date'] + [f'{category_number}_{col}' for col in df_filtered.columns if col != 'Date']\n",
    "    \n",
    "    # Date를 기준으로 병합\n",
    "    merged_df = pd.merge(merged_df, df_filtered, on='Date', how='outer')\n",
    "\n",
    "# 최종 파일을 현재 디렉토리에 내보내기\n",
    "output_file_path = os.path.join(current_directory, 'merged_output.csv')\n",
    "merged_df.to_csv(output_file_path, index=False)\n",
    "\n",
    "print(f\"Merged file saved to {output_file_path}\")\n"
   ]
  },
  {
   "cell_type": "code",
   "execution_count": null,
   "id": "64527da8",
   "metadata": {},
   "outputs": [],
   "source": []
  },
  {
   "cell_type": "code",
   "execution_count": 13,
   "id": "c928e09e",
   "metadata": {},
   "outputs": [
    {
     "name": "stdout",
     "output_type": "stream",
     "text": [
      "Merged and normalized file saved to C:\\Users\\saty1\\Downloads\\Saty_python\\project1\\result\\result2\\merged_normalized_output.csv\n"
     ]
    }
   ],
   "source": [
    "import os\n",
    "import pandas as pd\n",
    "\n",
    "# 현재 작업 디렉토리 경로를 가져옴\n",
    "current_directory = os.getcwd()\n",
    "\n",
    "# 사용자가 희망하는 열들 (예: 'like', 'view' 관련 열들)\n",
    "desired_columns = ['view']  # 필요한 열 이름의 일부를 여기에 입력\n",
    "\n",
    "# 경로에 있는 모든 파일 리스트 가져오기\n",
    "file_names = [f for f in os.listdir(current_directory) if f.endswith('.csv')]\n",
    "\n",
    "# 첫 번째 파일을 읽어와 date 열만 가져오기\n",
    "first_file = pd.read_csv(os.path.join(current_directory, file_names[0]))\n",
    "merged_df = first_file[['Date']].copy()  # Date 열만 복사\n",
    "\n",
    "# 각 파일을 순차적으로 처리하며 병합\n",
    "for file_name in file_names:\n",
    "    # 파일 읽기\n",
    "    df = pd.read_csv(os.path.join(current_directory, file_name))\n",
    "    \n",
    "    # 파일 이름에서 카테고리 번호 추출\n",
    "    category_number = file_name.split('_')[1]\n",
    "    \n",
    "    # 사용자가 선택한 열들만 필터링 (date 열과 함께)\n",
    "    filtered_columns = ['Date'] + [col for col in df.columns if any(desired in col for desired in desired_columns)]\n",
    "    df_filtered = df[filtered_columns]\n",
    "    \n",
    "    # 각 열에 \"카테고리번호_\" 접두사 붙이기\n",
    "    df_filtered.columns = ['Date'] + [f'{category_number}_{col}' for col in df_filtered.columns if col != 'Date']\n",
    "    \n",
    "    # Date를 기준으로 병합\n",
    "    merged_df = pd.merge(merged_df, df_filtered, on='Date', how='outer')\n",
    "\n",
    "# 카테고리별로 열을 그룹화하여 정규화\n",
    "for category_number in set(col.split('_')[0] for col in merged_df.columns if col != 'Date'):\n",
    "    category_columns = [col for col in merged_df.columns if col.startswith(f'{category_number}_')]\n",
    "    \n",
    "    # 그룹 내 최대값으로 정규화\n",
    "    max_value = merged_df[category_columns].max().max()  # 그룹 내 모든 열에서 최대값 추출\n",
    "    merged_df[category_columns] = merged_df[category_columns] / max_value  # 정규화\n",
    "\n",
    "# 최종 파일을 현재 디렉토리에 내보내기\n",
    "output_file_path = os.path.join(current_directory, 'merged_normalized_output.csv')\n",
    "merged_df.to_csv(output_file_path, index=False)\n",
    "\n",
    "print(f\"Merged and normalized file saved to {output_file_path}\")\n"
   ]
  },
  {
   "cell_type": "code",
   "execution_count": 26,
   "id": "817d39ad",
   "metadata": {},
   "outputs": [
    {
     "name": "stdout",
     "output_type": "stream",
     "text": [
      "Merged and normalized file saved to C:\\Users\\saty1\\Downloads\\Saty_python\\project1\\result\\result2\\merged_normalized_output.csv\n"
     ]
    }
   ],
   "source": [
    "import os\n",
    "import pandas as pd\n",
    "\n",
    "# 현재 작업 디렉토리 경로를 가져옴\n",
    "current_directory = os.getcwd()\n",
    "\n",
    "# 사용자가 희망하는 열들 (예: 'like', 'view' 관련 열들)\n",
    "desired_columns = ['view']  # 필요한 열 이름의 일부를 여기에 입력\n",
    "\n",
    "# 경로에 있는 모든 파일 리스트 가져오기\n",
    "file_names = [f for f in os.listdir(current_directory) if f.endswith('.csv')]\n",
    "\n",
    "# 첫 번째 파일을 읽어와 date 열만 가져오기\n",
    "first_file = pd.read_csv(os.path.join(current_directory, file_names[0]))\n",
    "merged_df = first_file[['Date']].copy()  # Date 열만 복사\n",
    "\n",
    "# 카테고리 번호를 정렬하기 위해 딕셔너리로 파일 이름과 번호를 매핑\n",
    "file_dict = {int(file_name.split('_')[1]): file_name for file_name in file_names}\n",
    "\n",
    "# 카테고리 번호를 정렬\n",
    "sorted_categories = sorted(file_dict.keys())\n",
    "\n",
    "# 각 파일을 순차적으로 처리하며 병합\n",
    "for category_number in sorted_categories:\n",
    "    file_name = file_dict[category_number]\n",
    "    \n",
    "    # 파일 읽기\n",
    "    df = pd.read_csv(os.path.join(current_directory, file_name))\n",
    "    \n",
    "    # 사용자가 선택한 열들만 필터링 (date 열과 함께)\n",
    "    filtered_columns = ['Date'] + [col for col in df.columns if any(desired in col for desired in desired_columns)]\n",
    "    df_filtered = df[filtered_columns]\n",
    "    \n",
    "    # 각 열에 \"카테고리번호_\" 접두사 붙이기\n",
    "    df_filtered.columns = ['Date'] + [f'{category_number}_{col}' for col in df_filtered.columns if col != 'Date']\n",
    "    \n",
    "    # Date를 기준으로 병합\n",
    "    merged_df = pd.merge(merged_df, df_filtered, on='Date', how='outer')\n",
    "\n",
    "# 카테고리별로 열을 그룹화하여 정규화\n",
    "for category_number in sorted_categories:\n",
    "    category_columns = [col for col in merged_df.columns if col.startswith(f'{category_number}_')]\n",
    "    \n",
    "    # 그룹 내 최대값으로 정규화\n",
    "    max_value = merged_df[category_columns].max().max()  # 그룹 내 모든 열에서 최대값 추출\n",
    "    merged_df[category_columns] = merged_df[category_columns] / max_value  # 정규화\n",
    "\n",
    "# 최종 파일을 현재 디렉토리에 내보내기\n",
    "output_file_path = os.path.join(current_directory, 'merged_normalized_output.csv')\n",
    "merged_df.to_csv(output_file_path, index=False)\n",
    "\n",
    "print(f\"Merged and normalized file saved to {output_file_path}\")\n"
   ]
  },
  {
   "cell_type": "code",
   "execution_count": null,
   "id": "24508c54",
   "metadata": {},
   "outputs": [],
   "source": []
  },
  {
   "cell_type": "code",
   "execution_count": 15,
   "id": "ced7bbf2",
   "metadata": {},
   "outputs": [
    {
     "name": "stdout",
     "output_type": "stream",
     "text": [
      "Merged and summarized original values file saved to C:\\Users\\saty1\\Downloads\\Saty_python\\project1\\result\\result2\\merged_total_original_output.csv\n"
     ]
    }
   ],
   "source": [
    "import os\n",
    "import pandas as pd\n",
    "\n",
    "# 현재 작업 디렉토리 경로를 가져옴\n",
    "current_directory = os.getcwd()\n",
    "\n",
    "# 경로에 있는 모든 파일 리스트 가져오기\n",
    "file_names = [f for f in os.listdir(current_directory) if f.endswith('.csv')]\n",
    "\n",
    "# 첫 번째 파일을 읽어와 date 열만 가져오기\n",
    "first_file = pd.read_csv(os.path.join(current_directory, file_names[0]))\n",
    "merged_df = first_file[['Date']].copy()  # Date 열만 복사\n",
    "\n",
    "# total_view, total_like, total_comments 열을 추가\n",
    "merged_df['total_view'] = 0\n",
    "merged_df['total_like'] = 0\n",
    "merged_df['total_comments'] = 0\n",
    "\n",
    "# 각 파일을 순차적으로 처리하며 합산\n",
    "for file_name in file_names:\n",
    "    # 파일 읽기\n",
    "    df = pd.read_csv(os.path.join(current_directory, file_name))\n",
    "    \n",
    "    # 'original'이 포함된 view, like, comments 관련 열들만 필터링\n",
    "    view_columns = [col for col in df.columns if 'view_Original' in col]\n",
    "    like_columns = [col for col in df.columns if 'like_Original' in col]\n",
    "    comments_columns = [col for col in df.columns if 'num_Original' in col]\n",
    "\n",
    "    # Date를 기준으로 병합\n",
    "    merged_df = pd.merge(merged_df, df[['Date']], on='Date', how='outer')\n",
    "    \n",
    "    # 합산하여 total 열에 더해줌\n",
    "    merged_df['total_view'] += df[view_columns].sum(axis=1)\n",
    "    merged_df['total_like'] += df[like_columns].sum(axis=1)\n",
    "    merged_df['total_comments'] += df[comments_columns].sum(axis=1)\n",
    "\n",
    "# 최종 파일을 현재 디렉토리에 내보내기\n",
    "output_file_path = os.path.join(current_directory, 'merged_total_original_output.csv')\n",
    "merged_df.to_csv(output_file_path, index=False)\n",
    "\n",
    "print(f\"Merged and summarized original values file saved to {output_file_path}\")\n"
   ]
  },
  {
   "cell_type": "code",
   "execution_count": null,
   "id": "39e12d8e",
   "metadata": {},
   "outputs": [],
   "source": []
  }
 ],
 "metadata": {
  "kernelspec": {
   "display_name": "Python 3 (ipykernel)",
   "language": "python",
   "name": "python3"
  },
  "language_info": {
   "codemirror_mode": {
    "name": "ipython",
    "version": 3
   },
   "file_extension": ".py",
   "mimetype": "text/x-python",
   "name": "python",
   "nbconvert_exporter": "python",
   "pygments_lexer": "ipython3",
   "version": "3.11.3"
  }
 },
 "nbformat": 4,
 "nbformat_minor": 5
}
